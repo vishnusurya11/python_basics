{
 "cells": [
  {
   "cell_type": "markdown",
   "metadata": {},
   "source": [
    "If Statements"
   ]
  },
  {
   "cell_type": "markdown",
   "metadata": {},
   "source": [
    "if condition:\n",
    "    statement 1\n",
    "    statement 2\n",
    "    \n",
    "print()"
   ]
  },
  {
   "cell_type": "code",
   "execution_count": 1,
   "metadata": {},
   "outputs": [],
   "source": [
    "random_variable = 3"
   ]
  },
  {
   "cell_type": "code",
   "execution_count": 2,
   "metadata": {},
   "outputs": [
    {
     "name": "stdout",
     "output_type": "stream",
     "text": [
      "I'm in IF condition\n",
      "random_variable has a value greater than 1\n",
      "I'm out of IF condition\n"
     ]
    }
   ],
   "source": [
    "if random_variable > 1:\n",
    "    print(\"I'm in IF condition\")\n",
    "    print(\"random_variable has a value greater than 1\")\n",
    "    \n",
    "print(\"I'm out of IF condition\")"
   ]
  },
  {
   "cell_type": "code",
   "execution_count": 3,
   "metadata": {},
   "outputs": [],
   "source": [
    "random_variable = 0"
   ]
  },
  {
   "cell_type": "code",
   "execution_count": 4,
   "metadata": {},
   "outputs": [
    {
     "name": "stdout",
     "output_type": "stream",
     "text": [
      "I'm out of IF condition\n"
     ]
    }
   ],
   "source": [
    "if random_variable > 1:\n",
    "    print(\"I'm in IF condition\")\n",
    "    print(\"random_variable has a value greater than 1\")\n",
    "    \n",
    "print(\"I'm out of IF condition\")"
   ]
  },
  {
   "cell_type": "code",
   "execution_count": 5,
   "metadata": {},
   "outputs": [
    {
     "name": "stdout",
     "output_type": "stream",
     "text": [
      "True\n"
     ]
    }
   ],
   "source": [
    "if True:\n",
    "    print('True')"
   ]
  },
  {
   "cell_type": "code",
   "execution_count": 7,
   "metadata": {},
   "outputs": [],
   "source": [
    "if False:\n",
    "    print('False')"
   ]
  },
  {
   "cell_type": "markdown",
   "metadata": {},
   "source": [
    "if condition:\n",
    "    print('....')\n",
    "else:\n",
    "    print('.....')"
   ]
  },
  {
   "cell_type": "code",
   "execution_count": 8,
   "metadata": {},
   "outputs": [],
   "source": [
    "random_variable = 6"
   ]
  },
  {
   "cell_type": "code",
   "execution_count": 10,
   "metadata": {},
   "outputs": [
    {
     "name": "stdout",
     "output_type": "stream",
     "text": [
      "I'm in if condition\n",
      "random_variable is greater than 5\n"
     ]
    }
   ],
   "source": [
    "if random_variable > 5:\n",
    "    print(\"I'm in if condition\")\n",
    "    print(\"random_variable is greater than 5\")\n",
    "else:\n",
    "    print(\"I'm in else conditon\")\n",
    "    print(\"random_variable is less than 5\")"
   ]
  },
  {
   "cell_type": "code",
   "execution_count": 11,
   "metadata": {},
   "outputs": [],
   "source": [
    "random_variable = 3"
   ]
  },
  {
   "cell_type": "code",
   "execution_count": 13,
   "metadata": {},
   "outputs": [
    {
     "name": "stdout",
     "output_type": "stream",
     "text": [
      "I'm in else conditon\n",
      "random_variable is less than 5\n"
     ]
    }
   ],
   "source": [
    "if random_variable > 5:\n",
    "    print(\"I'm in if condition\")\n",
    "    print(\"random_variable is greater than 5\")\n",
    "else:\n",
    "    print(\"I'm in else conditon\")\n",
    "    print(\"random_variable is less than 5\")"
   ]
  },
  {
   "cell_type": "markdown",
   "metadata": {},
   "source": [
    "if condition:\n",
    "    do soemthing\n",
    "elif conditon:\n",
    "    do something\n",
    "else:\n",
    "    do something"
   ]
  },
  {
   "cell_type": "code",
   "execution_count": 15,
   "metadata": {},
   "outputs": [],
   "source": [
    "random_variable = 'hello'"
   ]
  },
  {
   "cell_type": "code",
   "execution_count": 16,
   "metadata": {},
   "outputs": [
    {
     "name": "stdout",
     "output_type": "stream",
     "text": [
      "I'm in else condition\n",
      "random_variable is 2\n"
     ]
    }
   ],
   "source": [
    "if random_variable == \"hello\":\n",
    "    print(\"I'm in if conditon\")\n",
    "    print('random_variable is hello')\n",
    "elif random_variable == \"world\" :\n",
    "    print(\"I'm in elif conditon\")\n",
    "    print('random_variable is world')\n",
    "else:\n",
    "    print(\"I'm in else condition\")\n",
    "    print(f\"random_variable is {random_variable}\")"
   ]
  },
  {
   "cell_type": "code",
   "execution_count": 17,
   "metadata": {},
   "outputs": [],
   "source": [
    "random_variable = 'world'"
   ]
  },
  {
   "cell_type": "code",
   "execution_count": 18,
   "metadata": {},
   "outputs": [
    {
     "name": "stdout",
     "output_type": "stream",
     "text": [
      "I'm in elif conditon\n",
      "random_variable is world\n"
     ]
    }
   ],
   "source": [
    "if random_variable == \"hello\":\n",
    "    print(\"I'm in if conditon\")\n",
    "    print('random_variable is hello')\n",
    "elif random_variable == \"world\" :\n",
    "    print(\"I'm in elif conditon\")\n",
    "    print('random_variable is world')\n",
    "else:\n",
    "    print(\"I'm in else condition\")\n",
    "    print(f\"random_variable is {random_variable}\")"
   ]
  },
  {
   "cell_type": "code",
   "execution_count": 19,
   "metadata": {},
   "outputs": [],
   "source": [
    "random_variable = 'new'"
   ]
  },
  {
   "cell_type": "code",
   "execution_count": 20,
   "metadata": {},
   "outputs": [
    {
     "name": "stdout",
     "output_type": "stream",
     "text": [
      "I'm in else condition\n",
      "random_variable is new\n"
     ]
    }
   ],
   "source": [
    "if random_variable == \"hello\":\n",
    "    print(\"I'm in if conditon\")\n",
    "    print('random_variable is hello')\n",
    "elif random_variable == \"world\" :\n",
    "    print(\"I'm in elif conditon\")\n",
    "    print('random_variable is world')\n",
    "else:\n",
    "    print(\"I'm in else condition\")\n",
    "    print(f\"random_variable is {random_variable}\")"
   ]
  },
  {
   "cell_type": "code",
   "execution_count": 21,
   "metadata": {},
   "outputs": [],
   "source": [
    "a = 5"
   ]
  },
  {
   "cell_type": "code",
   "execution_count": 22,
   "metadata": {},
   "outputs": [
    {
     "name": "stdout",
     "output_type": "stream",
     "text": [
      "a value is between 2 and 10\n"
     ]
    }
   ],
   "source": [
    "if a > 2 :\n",
    "    if a < 10 :\n",
    "        print('a value is between 2 and 10')"
   ]
  },
  {
   "cell_type": "code",
   "execution_count": 23,
   "metadata": {},
   "outputs": [
    {
     "name": "stdout",
     "output_type": "stream",
     "text": [
      "a value is between 2 and 10\n"
     ]
    }
   ],
   "source": [
    "if a > 2 and a < 10 :\n",
    "    print('a value is between 2 and 10')"
   ]
  },
  {
   "cell_type": "markdown",
   "metadata": {},
   "source": [
    "if condition_1 and conditon_2:\n",
    "    do something"
   ]
  },
  {
   "cell_type": "markdown",
   "metadata": {},
   "source": [
    "if condition_1 or conditon_2:\n",
    "    do something"
   ]
  },
  {
   "cell_type": "code",
   "execution_count": 24,
   "metadata": {},
   "outputs": [],
   "source": [
    "a = 'hello'"
   ]
  },
  {
   "cell_type": "code",
   "execution_count": 26,
   "metadata": {},
   "outputs": [
    {
     "name": "stdout",
     "output_type": "stream",
     "text": [
      "a is hello\n"
     ]
    }
   ],
   "source": [
    "if a == 'hello' or a == 'wolrd':\n",
    "    print(f\"a is {a}\")"
   ]
  },
  {
   "cell_type": "code",
   "execution_count": 27,
   "metadata": {},
   "outputs": [],
   "source": [
    "a = 'world'"
   ]
  },
  {
   "cell_type": "code",
   "execution_count": 30,
   "metadata": {},
   "outputs": [
    {
     "name": "stdout",
     "output_type": "stream",
     "text": [
      "a is world\n"
     ]
    }
   ],
   "source": [
    "if a == 'hello' or a == 'world':\n",
    "    print(f\"a is {a}\")"
   ]
  },
  {
   "cell_type": "code",
   "execution_count": null,
   "metadata": {},
   "outputs": [],
   "source": []
  },
  {
   "cell_type": "code",
   "execution_count": null,
   "metadata": {},
   "outputs": [],
   "source": []
  },
  {
   "cell_type": "code",
   "execution_count": null,
   "metadata": {},
   "outputs": [],
   "source": []
  },
  {
   "cell_type": "code",
   "execution_count": null,
   "metadata": {},
   "outputs": [],
   "source": []
  },
  {
   "cell_type": "markdown",
   "metadata": {},
   "source": []
  }
 ],
 "metadata": {
  "kernelspec": {
   "display_name": "Python 3",
   "language": "python",
   "name": "python3"
  },
  "language_info": {
   "codemirror_mode": {
    "name": "ipython",
    "version": 3
   },
   "file_extension": ".py",
   "mimetype": "text/x-python",
   "name": "python",
   "nbconvert_exporter": "python",
   "pygments_lexer": "ipython3",
   "version": "3.7.2"
  }
 },
 "nbformat": 4,
 "nbformat_minor": 2
}
